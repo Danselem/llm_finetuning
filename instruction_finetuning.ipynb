{
  "nbformat": 4,
  "nbformat_minor": 0,
  "metadata": {
    "colab": {
      "provenance": [],
      "gpuType": "T4"
    },
    "kernelspec": {
      "name": "python3",
      "display_name": "Python 3"
    },
    "language_info": {
      "name": "python"
    },
    "accelerator": "GPU"
  },
  "cells": [
    {
      "cell_type": "markdown",
      "source": [
        "👋 This code is heavily inspired from [Sebastian Raschka](https://x.com/rasbt)'s excellent book, \"[Build a Large Language Model (From Scratch)](https://www.manning.com/books/build-a-large-language-model-from-scratch)\".\n",
        "\n",
        "I highly recommend buying and reading that book.\n",
        "\n",
        "My code here is taken directly from Sebastian's book, but with some slight modifications to make it financial domain-specific.\n",
        "\n",
        "Questions?  Feel free to DM me on [Twitter](https://x.com/virattt)."
      ],
      "metadata": {
        "id": "IUfUT14mxuBj"
      }
    },
    {
      "cell_type": "markdown",
      "source": [
        "### 0. Setup and installation"
      ],
      "metadata": {
        "id": "u2ler1zErC0-"
      }
    },
    {
      "cell_type": "code",
      "source": [
        "!pip install datasets tiktoken --quiet"
      ],
      "metadata": {
        "id": "vrIwtxyorB3m",
        "colab": {
          "base_uri": "https://localhost:8080/"
        },
        "outputId": "a5677b2a-b60a-40a6-e631-c0482d6c6a50"
      },
      "execution_count": 1,
      "outputs": [
        {
          "output_type": "stream",
          "name": "stdout",
          "text": [
            "\u001b[?25l   \u001b[90m━━━━━━━━━━━━━━━━━━━━━━━━━━━━━━━━━━━━━━━━\u001b[0m \u001b[32m0.0/480.6 kB\u001b[0m \u001b[31m?\u001b[0m eta \u001b[36m-:--:--\u001b[0m\r\u001b[2K   \u001b[91m━━━━━━━━━━━━━━━━━━━━━━━━━━━━━━━━━━━━━━━\u001b[0m\u001b[90m╺\u001b[0m \u001b[32m471.0/480.6 kB\u001b[0m \u001b[31m19.8 MB/s\u001b[0m eta \u001b[36m0:00:01\u001b[0m\r\u001b[2K   \u001b[90m━━━━━━━━━━━━━━━━━━━━━━━━━━━━━━━━━━━━━━━━\u001b[0m \u001b[32m480.6/480.6 kB\u001b[0m \u001b[31m8.7 MB/s\u001b[0m eta \u001b[36m0:00:00\u001b[0m\n",
            "\u001b[?25h\u001b[?25l   \u001b[90m━━━━━━━━━━━━━━━━━━━━━━━━━━━━━━━━━━━━━━━━\u001b[0m \u001b[32m0.0/1.2 MB\u001b[0m \u001b[31m?\u001b[0m eta \u001b[36m-:--:--\u001b[0m\r\u001b[2K   \u001b[91m━━━━━━━━━━━━━━━━━━━━━━━━━━━━━━━━━━━━━━━\u001b[0m\u001b[91m╸\u001b[0m \u001b[32m1.2/1.2 MB\u001b[0m \u001b[31m57.8 MB/s\u001b[0m eta \u001b[36m0:00:01\u001b[0m\r\u001b[2K   \u001b[90m━━━━━━━━━━━━━━━━━━━━━━━━━━━━━━━━━━━━━━━━\u001b[0m \u001b[32m1.2/1.2 MB\u001b[0m \u001b[31m25.4 MB/s\u001b[0m eta \u001b[36m0:00:00\u001b[0m\n",
            "\u001b[?25h\u001b[?25l   \u001b[90m━━━━━━━━━━━━━━━━━━━━━━━━━━━━━━━━━━━━━━━━\u001b[0m \u001b[32m0.0/116.3 kB\u001b[0m \u001b[31m?\u001b[0m eta \u001b[36m-:--:--\u001b[0m\r\u001b[2K   \u001b[90m━━━━━━━━━━━━━━━━━━━━━━━━━━━━━━━━━━━━━━━━\u001b[0m \u001b[32m116.3/116.3 kB\u001b[0m \u001b[31m5.1 MB/s\u001b[0m eta \u001b[36m0:00:00\u001b[0m\n",
            "\u001b[?25h\u001b[?25l   \u001b[90m━━━━━━━━━━━━━━━━━━━━━━━━━━━━━━━━━━━━━━━━\u001b[0m \u001b[32m0.0/179.3 kB\u001b[0m \u001b[31m?\u001b[0m eta \u001b[36m-:--:--\u001b[0m\r\u001b[2K   \u001b[90m━━━━━━━━━━━━━━━━━━━━━━━━━━━━━━━━━━━━━━━━\u001b[0m \u001b[32m179.3/179.3 kB\u001b[0m \u001b[31m7.3 MB/s\u001b[0m eta \u001b[36m0:00:00\u001b[0m\n",
            "\u001b[2K   \u001b[90m━━━━━━━━━━━━━━━━━━━━━━━━━━━━━━━━━━━━━━━━\u001b[0m \u001b[32m134.8/134.8 kB\u001b[0m \u001b[31m8.7 MB/s\u001b[0m eta \u001b[36m0:00:00\u001b[0m\n",
            "\u001b[2K   \u001b[90m━━━━━━━━━━━━━━━━━━━━━━━━━━━━━━━━━━━━━━━━\u001b[0m \u001b[32m194.1/194.1 kB\u001b[0m \u001b[31m12.5 MB/s\u001b[0m eta \u001b[36m0:00:00\u001b[0m\n",
            "\u001b[?25h\u001b[31mERROR: pip's dependency resolver does not currently take into account all the packages that are installed. This behaviour is the source of the following dependency conflicts.\n",
            "gcsfs 2024.10.0 requires fsspec==2024.10.0, but you have fsspec 2024.9.0 which is incompatible.\u001b[0m\u001b[31m\n",
            "\u001b[0m"
          ]
        }
      ]
    },
    {
      "cell_type": "code",
      "source": [
        "!pip install tensorflow>=2.15.0  tqdm>=4.66 --quiet"
      ],
      "metadata": {
        "id": "_hP3kWFZHj5v"
      },
      "execution_count": 2,
      "outputs": []
    },
    {
      "cell_type": "code",
      "source": [
        "import urllib.request\n",
        "url = (\n",
        "    \"https://raw.githubusercontent.com/rasbt/\"\n",
        "    \"LLMs-from-scratch/main/ch05/\"\n",
        "    \"01_main-chapter-code/gpt_download.py\"\n",
        ")\n",
        "filename = url.split('/')[-1]\n",
        "urllib.request.urlretrieve(url, filename)"
      ],
      "metadata": {
        "id": "MxO0zcYXHgIP",
        "colab": {
          "base_uri": "https://localhost:8080/"
        },
        "outputId": "ee59de8b-97ad-4e32-bdd5-d15dc3a93116"
      },
      "execution_count": 3,
      "outputs": [
        {
          "output_type": "execute_result",
          "data": {
            "text/plain": [
              "('gpt_download.py', <http.client.HTTPMessage at 0x78f1103ee290>)"
            ]
          },
          "metadata": {},
          "execution_count": 3
        }
      ]
    },
    {
      "cell_type": "markdown",
      "source": [
        "### 1. Download instruction dataset"
      ],
      "metadata": {
        "id": "t6qgbnGzxxgl"
      }
    },
    {
      "cell_type": "code",
      "source": [
        "from datasets import Dataset, DatasetDict, load_dataset, concatenate_datasets\n",
        "\n",
        "# Pull the existing dataset from huggingface\n",
        "dataset_path_hf = \"virattt/financial-qa-10K\"\n",
        "existing_dataset_hf = load_dataset(dataset_path_hf)"
      ],
      "metadata": {
        "id": "TZjM6mEpq4wY"
      },
      "execution_count": 5,
      "outputs": []
    },
    {
      "cell_type": "code",
      "source": [
        "# Assuming existing_dataset_hf is your DatasetDict\n",
        "train_dataset = existing_dataset_hf['train']\n",
        "\n",
        "# Convert to a list of dictionaries\n",
        "dataset_list = train_dataset.to_list()\n",
        "\n",
        "# Extract question, answer, and context\n",
        "data = [{'instruction': \"Answer the following question.\", 'input': item['question'], 'output': item['answer']} for item in dataset_list]"
      ],
      "metadata": {
        "id": "SjPkF4yMrJ5Q"
      },
      "execution_count": 6,
      "outputs": []
    },
    {
      "cell_type": "code",
      "source": [
        "print(\"Example entry:\\n\", data[500])"
      ],
      "metadata": {
        "id": "LmbiHYQkxvcm",
        "colab": {
          "base_uri": "https://localhost:8080/"
        },
        "outputId": "b808424e-3568-4ed4-c132-78b4d145d79b"
      },
      "execution_count": 7,
      "outputs": [
        {
          "output_type": "stream",
          "name": "stdout",
          "text": [
            "Example entry:\n",
            " {'instruction': 'Answer the following question.', 'input': 'When did Costco Wholesale Corporation begin its operations?', 'output': 'Costco Wholesale Corporation began its operations in 1983.'}\n"
          ]
        }
      ]
    },
    {
      "cell_type": "code",
      "source": [
        "print(\"Another example entry:\\n\", data[1000])"
      ],
      "metadata": {
        "id": "tlNgto3Ox14E",
        "colab": {
          "base_uri": "https://localhost:8080/"
        },
        "outputId": "ac0ff3fd-5b57-43e6-8956-0d85f4f8fb60"
      },
      "execution_count": 8,
      "outputs": [
        {
          "output_type": "stream",
          "name": "stdout",
          "text": [
            "Another example entry:\n",
            " {'instruction': 'Answer the following question.', 'input': 'What year was American Express founded and when was it incorporated as a New York corporation?', 'output': 'American Express was founded in 1850 and was incorporated as a New York corporation in 1965.'}\n"
          ]
        }
      ]
    },
    {
      "cell_type": "markdown",
      "source": [
        "### 2. Implement prompt formatter"
      ],
      "metadata": {
        "id": "4MHDbwIGx4X1"
      }
    },
    {
      "cell_type": "code",
      "source": [
        "def format_input(entry):\n",
        "    instruction_text = (\n",
        "        f\"Below is an instruction that describes a task. \"\n",
        "        f\"Write a response that appropriately completes the request.\"\n",
        "        f\"\\n\\n### Instruction:\\n{entry['instruction']}\"\n",
        "    )\n",
        "    input_text = f\"\\n\\n### Input:\\n{entry['input']}\" if entry[\"input\"] else \"\"\n",
        "    return instruction_text + input_text"
      ],
      "metadata": {
        "id": "SCZ93qQho9cH"
      },
      "execution_count": 9,
      "outputs": []
    },
    {
      "cell_type": "code",
      "source": [
        "model_input = format_input(data[500])\n",
        "desired_response = f\"\\n\\n### Response:\\n{data[500]['output']}\"\n",
        "print(model_input + desired_response)"
      ],
      "metadata": {
        "id": "iOAywH-MpQcM",
        "colab": {
          "base_uri": "https://localhost:8080/"
        },
        "outputId": "827ac3b8-5ce1-4811-c307-c28ff6bd2897"
      },
      "execution_count": 10,
      "outputs": [
        {
          "output_type": "stream",
          "name": "stdout",
          "text": [
            "Below is an instruction that describes a task. Write a response that appropriately completes the request.\n",
            "\n",
            "### Instruction:\n",
            "Answer the following question.\n",
            "\n",
            "### Input:\n",
            "When did Costco Wholesale Corporation begin its operations?\n",
            "\n",
            "### Response:\n",
            "Costco Wholesale Corporation began its operations in 1983.\n"
          ]
        }
      ]
    },
    {
      "cell_type": "markdown",
      "source": [
        "### 3. Partition the dataset"
      ],
      "metadata": {
        "id": "00NKjbRLpBTy"
      }
    },
    {
      "cell_type": "code",
      "source": [
        "train_portion = int(len(data) * 0.85)  # 85% for training\n",
        "test_portion = int(len(data) * 0.1)   # 10% for testing\n",
        "val_portion = len(data) - train_portion - test_portion  # Remaining 5% for validation\n",
        "\n",
        "train_data = data[:train_portion]\n",
        "test_data = data[train_portion:train_portion + test_portion]\n",
        "val_data = data[train_portion + test_portion:]\n",
        "\n",
        "print(\"Training set length:\", len(train_data))\n",
        "print(\"Validation set length:\", len(val_data))\n",
        "print(\"Test set length:\", len(test_data))"
      ],
      "metadata": {
        "id": "JPoyYgJqpKVm",
        "colab": {
          "base_uri": "https://localhost:8080/"
        },
        "outputId": "6f87aeeb-9bdd-4fab-9f10-6b942a7d71ff"
      },
      "execution_count": 11,
      "outputs": [
        {
          "output_type": "stream",
          "name": "stdout",
          "text": [
            "Training set length: 5950\n",
            "Validation set length: 350\n",
            "Test set length: 700\n"
          ]
        }
      ]
    },
    {
      "cell_type": "markdown",
      "source": [
        "### 3. Implement InstructionDataset class"
      ],
      "metadata": {
        "id": "32XwXZzTpMQ1"
      }
    },
    {
      "cell_type": "code",
      "source": [
        "import torch\n",
        "from torch.utils.data import Dataset\n",
        "\n",
        "class InstructionDataset(Dataset):\n",
        "  def __init__(self, data, tokenizer):\n",
        "    self.data = data\n",
        "    self.encoded_texts = []\n",
        "\n",
        "    for entry in data:\n",
        "      instruction_plus_input = format_input(entry)\n",
        "      response_text = f\"\\n\\n### Response:\\n{entry['output']}\"\n",
        "      full_text = instruction_plus_input + response_text\n",
        "      self.encoded_texts.append(\n",
        "          tokenizer.encode(full_text)\n",
        "      )\n",
        "\n",
        "  def __getitem__(self, index):\n",
        "    return self.encoded_texts[index]\n",
        "\n",
        "  def __len__(self):\n",
        "    return len(self.data)"
      ],
      "metadata": {
        "id": "0XIepNT19Ea7"
      },
      "execution_count": 12,
      "outputs": []
    },
    {
      "cell_type": "code",
      "source": [
        "import tiktoken\n",
        "\n",
        "tokenizer = tiktoken.get_encoding(\"gpt2\")\n",
        "print(tokenizer.encode(\"<|endoftext|>\", allowed_special={\"<|endoftext|>\"}))"
      ],
      "metadata": {
        "colab": {
          "base_uri": "https://localhost:8080/"
        },
        "id": "KyMNyKcB9c7p",
        "outputId": "5d871872-7ef8-4c34-8c98-a726c2cf915a"
      },
      "execution_count": 13,
      "outputs": [
        {
          "output_type": "stream",
          "name": "stdout",
          "text": [
            "[50256]\n"
          ]
        }
      ]
    },
    {
      "cell_type": "markdown",
      "source": [
        "### 4. Implement custom dataset collate function"
      ],
      "metadata": {
        "id": "WnMu-3eYpmV6"
      }
    },
    {
      "cell_type": "code",
      "source": [
        "def custom_collate_fn(\n",
        "    batch,\n",
        "    pad_token_id=50256,\n",
        "    ignore_index=-100,\n",
        "    allowed_max_length=None,\n",
        "    device=\"cpu\"\n",
        "):\n",
        "    batch_max_length = max(len(item)+1 for item in batch)\n",
        "    inputs_lst, targets_lst = [], []\n",
        "\n",
        "    for item in batch:\n",
        "        new_item = item.copy()\n",
        "        new_item += [pad_token_id]\n",
        "        # Pad sequences to max_length\n",
        "        padded = new_item + [pad_token_id] * (batch_max_length - len(new_item))\n",
        "        inputs = torch.tensor(padded[:-1])  # Truncate the last token for inputs\n",
        "        targets = torch.tensor(padded[1:])  # Shift +1 to the right for targets\n",
        "\n",
        "        mask = targets == pad_token_id\n",
        "        indices = torch.nonzero(mask).squeeze()\n",
        "        if indices.numel() > 1:\n",
        "            targets[indices[1:]] = ignore_index\n",
        "\n",
        "        if allowed_max_length is not None:\n",
        "            inputs = inputs[:allowed_max_length]\n",
        "            targets = targets[:allowed_max_length]\n",
        "\n",
        "        inputs_lst.append(inputs)\n",
        "        targets_lst.append(targets)\n",
        "\n",
        "    inputs_tensor = torch.stack(inputs_lst).to(device)\n",
        "    targets_tensor = torch.stack(targets_lst).to(device)\n",
        "    return inputs_tensor, targets_tensor"
      ],
      "metadata": {
        "id": "f_AWjcgfqEJS"
      },
      "execution_count": 14,
      "outputs": []
    },
    {
      "cell_type": "code",
      "source": [
        "# Test out the function\n",
        "inputs_1 = [0, 1, 2, 3, 4]\n",
        "inputs_2 = [5, 6]\n",
        "inputs_3 = [7, 8, 9]\n",
        "batch = (\n",
        "    inputs_1,\n",
        "    inputs_2,\n",
        "    inputs_3\n",
        ")\n",
        "inputs, targets = custom_collate_fn(batch)\n",
        "print(inputs)\n",
        "print(targets)"
      ],
      "metadata": {
        "colab": {
          "base_uri": "https://localhost:8080/"
        },
        "id": "-YGfOQbeq3XI",
        "outputId": "60b39ef5-9214-4926-9fbc-7abbd1e53ed1"
      },
      "execution_count": 15,
      "outputs": [
        {
          "output_type": "stream",
          "name": "stdout",
          "text": [
            "tensor([[    0,     1,     2,     3,     4],\n",
            "        [    5,     6, 50256, 50256, 50256],\n",
            "        [    7,     8,     9, 50256, 50256]])\n",
            "tensor([[    1,     2,     3,     4, 50256],\n",
            "        [    6, 50256,  -100,  -100,  -100],\n",
            "        [    8,     9, 50256,  -100,  -100]])\n"
          ]
        }
      ]
    },
    {
      "cell_type": "code",
      "source": [
        "device = torch.device(\"cuda\" if torch.cuda.is_available() else \"cpu\")\n",
        "print(\"Device:\", device)"
      ],
      "metadata": {
        "id": "F-zX-wyvru6f",
        "colab": {
          "base_uri": "https://localhost:8080/"
        },
        "outputId": "0099bfd0-b2d7-40ea-84d4-ef68845cb741"
      },
      "execution_count": 16,
      "outputs": [
        {
          "output_type": "stream",
          "name": "stdout",
          "text": [
            "Device: cuda\n"
          ]
        }
      ]
    },
    {
      "cell_type": "code",
      "source": [
        "from functools import partial\n",
        "customized_collate_fn = partial(custom_collate_fn, device=device, allowed_max_length=1024)"
      ],
      "metadata": {
        "id": "kvSsaxc8tI1j"
      },
      "execution_count": 17,
      "outputs": []
    },
    {
      "cell_type": "markdown",
      "source": [
        "### 5. Initialize data loaders"
      ],
      "metadata": {
        "id": "gDjploPxtTgT"
      }
    },
    {
      "cell_type": "code",
      "source": [
        "from torch.utils.data import DataLoader\n",
        "\n",
        "num_workers = 0\n",
        "batch_size = 8\n",
        "\n",
        "torch.manual_seed(123)\n",
        "\n",
        "train_dataset = InstructionDataset(train_data, tokenizer)\n",
        "train_loader = DataLoader(\n",
        "    train_dataset,\n",
        "    batch_size=batch_size,\n",
        "    collate_fn=customized_collate_fn,\n",
        "    shuffle=True,\n",
        "    drop_last=True,\n",
        "    num_workers=num_workers\n",
        ")\n",
        "\n",
        "val_dataset = InstructionDataset(val_data, tokenizer)\n",
        "val_loader = DataLoader(\n",
        "    val_dataset,\n",
        "    batch_size=batch_size,\n",
        "    collate_fn=customized_collate_fn,\n",
        "    shuffle=False,\n",
        "    drop_last=False,\n",
        "    num_workers=num_workers\n",
        ")\n",
        "\n",
        "test_dataset = InstructionDataset(test_data, tokenizer)\n",
        "test_loader = DataLoader(\n",
        "    test_dataset,\n",
        "    batch_size=batch_size,\n",
        "    collate_fn=customized_collate_fn,\n",
        "    shuffle=False,\n",
        "    drop_last=False,\n",
        "    num_workers=num_workers\n",
        ")"
      ],
      "metadata": {
        "id": "z8O7x7mOtXTC"
      },
      "execution_count": 18,
      "outputs": []
    },
    {
      "cell_type": "markdown",
      "source": [
        "### 6. Implement GPTModel"
      ],
      "metadata": {
        "id": "hXAvOR41FGdr"
      }
    },
    {
      "cell_type": "code",
      "source": [
        "import torch\n",
        "from torch import nn\n",
        "\n",
        "class LayerNorm(nn.Module):\n",
        "  def __init__(self, emb_dim):\n",
        "    super().__init__()\n",
        "    self.eps = 1e-5\n",
        "    self.scale = nn.Parameter(torch.ones(emb_dim))\n",
        "    self.shift = nn.Parameter(torch.zeros(emb_dim))\n",
        "\n",
        "  def forward(self, x):\n",
        "    mean = x.mean(dim=-1, keepdim=True)\n",
        "    var = x.var(dim=-1, keepdim=True, unbiased=False)\n",
        "    normalized_x = (x - mean) / torch.sqrt(var + self.eps)\n",
        "    return self.scale * normalized_x + self.shift"
      ],
      "metadata": {
        "id": "_8d9jxwXFLJv"
      },
      "execution_count": 19,
      "outputs": []
    },
    {
      "cell_type": "code",
      "source": [
        "class GELU(nn.Module):\n",
        "    def __init__(self):\n",
        "        super().__init__()\n",
        "\n",
        "    def forward(self, x):\n",
        "        return 0.5 * x * (1 + torch.tanh(\n",
        "            torch.sqrt(torch.tensor(2.0 / torch.pi)) *\n",
        "            (x + 0.044715 * torch.pow(x, 3))\n",
        "        ))"
      ],
      "metadata": {
        "id": "CVjyqN4dFZyg"
      },
      "execution_count": 20,
      "outputs": []
    },
    {
      "cell_type": "code",
      "source": [
        "# Implement feed-forward neural network\n",
        "class FeedForward(nn.Module):\n",
        "  def __init__(self, config):\n",
        "    super().__init__()\n",
        "    self.layers = nn.Sequential(\n",
        "        nn.Linear(config[\"emb_dim\"], 4 * config[\"emb_dim\"]),\n",
        "        GELU(),\n",
        "        nn.Linear(4 * config[\"emb_dim\"], config[\"emb_dim\"]),\n",
        "    )\n",
        "\n",
        "  def forward(self, x):\n",
        "    return self.layers(x)"
      ],
      "metadata": {
        "id": "0L9t5v9xFa9v"
      },
      "execution_count": 21,
      "outputs": []
    },
    {
      "cell_type": "code",
      "source": [
        "class MultiHeadAttention(nn.Module):\n",
        "  def __init__(self, d_in, d_out, context_length, dropout, num_heads, qkv_bias=False):\n",
        "    super().__init__()\n",
        "\n",
        "    assert d_out % num_heads == 0, \"d_out must be divisible by num_heads\"\n",
        "\n",
        "    self.d_out = d_out                  # 768\n",
        "    self.num_heads = num_heads          # 12\n",
        "    self.head_dim = d_out // num_heads  # 64\n",
        "    self.W_query = nn.Linear(d_in, d_out, bias=qkv_bias)\n",
        "    self.W_key = nn.Linear(d_in, d_out, bias=qkv_bias)\n",
        "    self.W_value = nn.Linear(d_in, d_out, bias=qkv_bias)\n",
        "    self.out_proj = nn.Linear(d_out, d_out)\n",
        "    self.dropout = nn.Dropout(dropout)\n",
        "    self.register_buffer(\n",
        "        'mask',\n",
        "        torch.triu(torch.ones(\n",
        "            context_length,             # 1024\n",
        "            context_length,             # 1024\n",
        "          ), diagonal=1)\n",
        "    )\n",
        "\n",
        "  def forward(self, x):\n",
        "    batch_size, num_tokens, embedding_length = x.shape\n",
        "    keys = self.W_key(x)\n",
        "    queries = self.W_query(x)\n",
        "    values = self.W_value(x)\n",
        "\n",
        "    # Add the num_heads and head_dim dimensions\n",
        "    keys = keys.view(batch_size, num_tokens, self.num_heads, self.head_dim)       # Transform to a tensor of dimensions: 2 x 1024 x 12 x 64\n",
        "    queries = queries.view(batch_size, num_tokens, self.num_heads, self.head_dim) # Transform to a tensor of dimensions: 2 x 1024 x 12 x 64\n",
        "    values = values.view(batch_size, num_tokens, self.num_heads, self.head_dim)   # Transform to a tensor of dimensions: 2 x 1024 x 12 x 64\n",
        "\n",
        "    # Transpose from (batch_size, num_tokens, num_heads, head_dim) to (batch_size, num_heads, num_tokens, head_dim)\n",
        "    queries = queries.transpose(1, 2)\n",
        "    keys = keys.transpose(1, 2)\n",
        "    values = values.transpose(1, 2)\n",
        "\n",
        "    # Calculate attention scores\n",
        "    attention_scores = queries @ keys.transpose(2, 3)\n",
        "    mask_bool = self.mask.bool()[:num_tokens, :num_tokens]\n",
        "\n",
        "    # Mask the attention scores\n",
        "    attention_scores.masked_fill_(mask_bool, -torch.inf)\n",
        "\n",
        "    # Calculate attention weights\n",
        "    attention_weights = torch.softmax(attention_scores / keys.shape[-1]**0.5, dim=-1)\n",
        "\n",
        "    # Apply dropout to attention weights\n",
        "    attention_weights = self.dropout(attention_weights)\n",
        "\n",
        "    # Calculate context vectors\n",
        "    context_vectors = (attention_weights @ values).transpose(1, 2)\n",
        "\n",
        "    # Concatenate the context vectors\n",
        "    context_vectors = context_vectors.contiguous().view(batch_size, num_tokens, self.d_out)\n",
        "    return self.out_proj(context_vectors)"
      ],
      "metadata": {
        "id": "DxJyX7s7FdN5"
      },
      "execution_count": 22,
      "outputs": []
    },
    {
      "cell_type": "code",
      "source": [
        "class TransformerBlock(nn.Module):\n",
        "  def __init__(self, config):\n",
        "    super().__init__()\n",
        "\n",
        "    self.att = MultiHeadAttention(\n",
        "        d_in=config[\"emb_dim\"],\n",
        "        d_out=config[\"emb_dim\"],\n",
        "        context_length=config[\"context_length\"],\n",
        "        dropout=config[\"drop_rate\"],\n",
        "        num_heads=config[\"n_heads\"],\n",
        "        qkv_bias=config[\"qkv_bias\"]\n",
        "    )\n",
        "\n",
        "    self.ff = FeedForward(config)\n",
        "    self.norm1 = LayerNorm(config[\"emb_dim\"])\n",
        "    self.norm2 = LayerNorm(config[\"emb_dim\"])\n",
        "    self.drop_shortcut = nn.Dropout(config[\"drop_rate\"])\n",
        "\n",
        "  def forward(self, x):\n",
        "    shortcut = x\n",
        "\n",
        "    # Attention layer\n",
        "    x = self.norm1(x)\n",
        "    x = self.att(x)\n",
        "    x = self.drop_shortcut(x)\n",
        "    x = x + shortcut         # Add the original input back\n",
        "\n",
        "    # Feedforward layer\n",
        "    shortcut = x\n",
        "    x = self.norm2(x)\n",
        "    x = self.ff(x)\n",
        "    x = self.drop_shortcut(x)\n",
        "    x = x + shortcut         # Add the original input back\n",
        "    return x"
      ],
      "metadata": {
        "id": "PXM2PqkAFe5-"
      },
      "execution_count": 23,
      "outputs": []
    },
    {
      "cell_type": "code",
      "source": [
        "class GPTModel(nn.Module):\n",
        "  def __init__(self, config):\n",
        "    super().__init__()\n",
        "\n",
        "    self.tok_emb = nn.Embedding(config[\"vocab_size\"], config[\"emb_dim\"])\n",
        "    self.pos_emb = nn.Embedding(config[\"context_length\"], config[\"emb_dim\"])\n",
        "    self.drop_embedding = nn.Dropout(config[\"drop_rate\"])\n",
        "\n",
        "    self.trf_blocks = nn.Sequential(\n",
        "        *[TransformerBlock(config) for _ in range(config[\"n_layers\"])]\n",
        "    )\n",
        "\n",
        "    self.final_norm = LayerNorm(config[\"emb_dim\"])\n",
        "    self.out_head = nn.Linear(config[\"emb_dim\"], config[\"vocab_size\"], bias=False)\n",
        "\n",
        "  def forward(self, in_idx):\n",
        "    batch_size, sequence_length = in_idx.shape\n",
        "    tok_emb = self.tok_emb(in_idx)\n",
        "    pos_emb = self.pos_emb(\n",
        "        torch.arange(sequence_length, device=in_idx.device)\n",
        "    )\n",
        "    x = tok_emb + pos_emb\n",
        "    x = self.drop_embedding(x)\n",
        "\n",
        "    x = self.trf_blocks(x)\n",
        "    x = self.final_norm(x)\n",
        "    logits = self.out_head(x)\n",
        "    return logits"
      ],
      "metadata": {
        "id": "Kl3Tek4bFgXV"
      },
      "execution_count": 24,
      "outputs": []
    },
    {
      "cell_type": "code",
      "source": [
        "import numpy as np\n",
        "\n",
        "def assign(left, right):\n",
        "    if left.shape != right.shape:\n",
        "        raise ValueError(f\"Shape mismatch. Left: {left.shape}, \"\n",
        "                          \"Right: {right.shape}\"\n",
        "        )\n",
        "    return torch.nn.Parameter(torch.tensor(right))\n",
        "\n",
        "def load_weights_into_gpt(gpt, params):\n",
        "    gpt.pos_emb.weight = assign(gpt.pos_emb.weight, params['wpe'])\n",
        "    gpt.tok_emb.weight = assign(gpt.tok_emb.weight, params['wte'])\n",
        "\n",
        "    for b in range(len(params[\"blocks\"])):\n",
        "        q_w, k_w, v_w = np.split(\n",
        "            (params[\"blocks\"][b][\"attn\"][\"c_attn\"])[\"w\"], 3, axis=-1)\n",
        "        gpt.trf_blocks[b].att.W_query.weight = assign(\n",
        "            gpt.trf_blocks[b].att.W_query.weight, q_w.T)\n",
        "        gpt.trf_blocks[b].att.W_key.weight = assign(\n",
        "            gpt.trf_blocks[b].att.W_key.weight, k_w.T)\n",
        "        gpt.trf_blocks[b].att.W_value.weight = assign(\n",
        "            gpt.trf_blocks[b].att.W_value.weight, v_w.T)\n",
        "\n",
        "        q_b, k_b, v_b = np.split(\n",
        "            (params[\"blocks\"][b][\"attn\"][\"c_attn\"])[\"b\"], 3, axis=-1)\n",
        "        gpt.trf_blocks[b].att.W_query.bias = assign(\n",
        "            gpt.trf_blocks[b].att.W_query.bias, q_b)\n",
        "        gpt.trf_blocks[b].att.W_key.bias = assign(\n",
        "            gpt.trf_blocks[b].att.W_key.bias, k_b)\n",
        "        gpt.trf_blocks[b].att.W_value.bias = assign(\n",
        "            gpt.trf_blocks[b].att.W_value.bias, v_b)\n",
        "\n",
        "        gpt.trf_blocks[b].att.out_proj.weight = assign(\n",
        "            gpt.trf_blocks[b].att.out_proj.weight,\n",
        "            params[\"blocks\"][b][\"attn\"][\"c_proj\"][\"w\"].T)\n",
        "        gpt.trf_blocks[b].att.out_proj.bias = assign(\n",
        "            gpt.trf_blocks[b].att.out_proj.bias,\n",
        "            params[\"blocks\"][b][\"attn\"][\"c_proj\"][\"b\"])\n",
        "\n",
        "        gpt.trf_blocks[b].ff.layers[0].weight = assign(\n",
        "            gpt.trf_blocks[b].ff.layers[0].weight,\n",
        "            params[\"blocks\"][b][\"mlp\"][\"c_fc\"][\"w\"].T)\n",
        "        gpt.trf_blocks[b].ff.layers[0].bias = assign(\n",
        "            gpt.trf_blocks[b].ff.layers[0].bias,\n",
        "            params[\"blocks\"][b][\"mlp\"][\"c_fc\"][\"b\"])\n",
        "        gpt.trf_blocks[b].ff.layers[2].weight = assign(\n",
        "            gpt.trf_blocks[b].ff.layers[2].weight,\n",
        "            params[\"blocks\"][b][\"mlp\"][\"c_proj\"][\"w\"].T)\n",
        "        gpt.trf_blocks[b].ff.layers[2].bias = assign(\n",
        "            gpt.trf_blocks[b].ff.layers[2].bias,\n",
        "            params[\"blocks\"][b][\"mlp\"][\"c_proj\"][\"b\"])\n",
        "\n",
        "        gpt.trf_blocks[b].norm1.scale = assign(\n",
        "            gpt.trf_blocks[b].norm1.scale,\n",
        "            params[\"blocks\"][b][\"ln_1\"][\"g\"])\n",
        "        gpt.trf_blocks[b].norm1.shift = assign(\n",
        "            gpt.trf_blocks[b].norm1.shift,\n",
        "            params[\"blocks\"][b][\"ln_1\"][\"b\"])\n",
        "        gpt.trf_blocks[b].norm2.scale = assign(\n",
        "            gpt.trf_blocks[b].norm2.scale,\n",
        "            params[\"blocks\"][b][\"ln_2\"][\"g\"])\n",
        "        gpt.trf_blocks[b].norm2.shift = assign(\n",
        "            gpt.trf_blocks[b].norm2.shift,\n",
        "            params[\"blocks\"][b][\"ln_2\"][\"b\"])\n",
        "\n",
        "    gpt.final_norm.scale = assign(gpt.final_norm.scale, params[\"g\"])\n",
        "    gpt.final_norm.shift = assign(gpt.final_norm.shift, params[\"b\"])\n",
        "    gpt.out_head.weight = assign(gpt.out_head.weight, params[\"wte\"])"
      ],
      "metadata": {
        "id": "xu_Jv-HAFpaM"
      },
      "execution_count": 25,
      "outputs": []
    },
    {
      "cell_type": "markdown",
      "source": [
        "### 7. Load pretrained LLM"
      ],
      "metadata": {
        "id": "U71W-Pgatxn4"
      }
    },
    {
      "cell_type": "code",
      "source": [
        "from gpt_download import download_and_load_gpt2\n",
        "\n",
        "\n",
        "BASE_CONFIG = {\n",
        "    \"vocab_size\": 50257,     # Vocabulary size\n",
        "    \"context_length\": 1024,  # Context length\n",
        "    \"drop_rate\": 0.0,        # Dropout rate\n",
        "    \"qkv_bias\": True         # Query-key-value bias\n",
        "}\n",
        "\n",
        "model_configs = {\n",
        "    \"gpt2-small (124M)\": {\"emb_dim\": 768, \"n_layers\": 12, \"n_heads\": 12},\n",
        "    \"gpt2-medium (355M)\": {\"emb_dim\": 1024, \"n_layers\": 24, \"n_heads\": 16},\n",
        "    \"gpt2-large (774M)\": {\"emb_dim\": 1280, \"n_layers\": 36, \"n_heads\": 20},\n",
        "    \"gpt2-xl (1558M)\": {\"emb_dim\": 1600, \"n_layers\": 48, \"n_heads\": 25},\n",
        "}\n",
        "\n",
        "CHOOSE_MODEL = \"gpt2-medium (355M)\"\n",
        "BASE_CONFIG.update(model_configs[CHOOSE_MODEL])\n",
        "\n",
        "model_size = CHOOSE_MODEL.split(\" \")[-1].lstrip(\"(\").rstrip(\")\")\n",
        "\n",
        "settings, params = download_and_load_gpt2(\n",
        "    model_size=model_size,\n",
        "    models_dir=\"gpt2\"\n",
        ")"
      ],
      "metadata": {
        "colab": {
          "base_uri": "https://localhost:8080/"
        },
        "id": "k2N3KD0dExwI",
        "outputId": "259de0e2-0226-42eb-a424-609d98d8ac36"
      },
      "execution_count": 26,
      "outputs": [
        {
          "output_type": "stream",
          "name": "stderr",
          "text": [
            "checkpoint: 100%|██████████| 77.0/77.0 [00:00<00:00, 70.9kiB/s]\n",
            "encoder.json: 100%|██████████| 1.04M/1.04M [00:00<00:00, 2.78MiB/s]\n",
            "hparams.json: 100%|██████████| 91.0/91.0 [00:00<00:00, 81.3kiB/s]\n",
            "model.ckpt.data-00000-of-00001: 100%|██████████| 1.42G/1.42G [00:54<00:00, 26.1MiB/s]\n",
            "model.ckpt.index: 100%|██████████| 10.4k/10.4k [00:00<00:00, 7.43MiB/s]\n",
            "model.ckpt.meta: 100%|██████████| 927k/927k [00:00<00:00, 2.18MiB/s]\n",
            "vocab.bpe: 100%|██████████| 456k/456k [00:00<00:00, 1.38MiB/s]\n"
          ]
        }
      ]
    },
    {
      "cell_type": "code",
      "source": [
        "model = GPTModel(BASE_CONFIG)\n",
        "load_weights_into_gpt(model, params)\n",
        "model.eval();"
      ],
      "metadata": {
        "id": "s39F1wLoGua5"
      },
      "execution_count": 27,
      "outputs": []
    },
    {
      "cell_type": "markdown",
      "source": [
        "### 8. Generate some sample text"
      ],
      "metadata": {
        "id": "OhmGZoAJGPEg"
      }
    },
    {
      "cell_type": "code",
      "source": [
        "def generate(model, idx, max_new_tokens, context_size,\n",
        "             temperature=0.0, top_k=None, eos_id=None):\n",
        "    for _ in range(max_new_tokens):\n",
        "        idx_cond = idx[:, -context_size:]\n",
        "        with torch.no_grad():\n",
        "            logits = model(idx_cond)\n",
        "        logits = logits[:, -1, :]\n",
        "        if top_k is not None:\n",
        "            top_logits, _ = torch.topk(logits, top_k)\n",
        "            min_val = top_logits[:, -1]\n",
        "            logits = torch.where(\n",
        "                logits < min_val,\n",
        "                torch.tensor(float('-inf')).to(logits.device),\n",
        "                logits\n",
        "            )\n",
        "        if temperature > 0.0:\n",
        "            logits = logits / temperature\n",
        "            probs = torch.softmax(logits, dim=-1)\n",
        "            idx_next = torch.multinomial(probs, num_samples=1)\n",
        "        else:\n",
        "            idx_next = torch.argmax(logits, dim=-1, keepdim=True)\n",
        "        if idx_next == eos_id:\n",
        "            break\n",
        "        idx = torch.cat((idx, idx_next), dim=1)\n",
        "    return idx\n",
        "\n",
        "def text_to_token_ids(text, tokenizer):\n",
        "    encoded = tokenizer.encode(text, allowed_special={'<|endoftext|>'})\n",
        "    encoded_tensor = torch.tensor(encoded).unsqueeze(0)\n",
        "    return encoded_tensor\n",
        "\n",
        "def token_ids_to_text(token_ids, tokenizer):\n",
        "    flat = token_ids.squeeze(0)\n",
        "    return tokenizer.decode(flat.tolist())"
      ],
      "metadata": {
        "id": "RoZTwjSTGSyZ"
      },
      "execution_count": 28,
      "outputs": []
    },
    {
      "cell_type": "code",
      "source": [
        "torch.manual_seed(123)\n",
        "input_text = format_input(val_data[0])\n",
        "print(input_text)"
      ],
      "metadata": {
        "colab": {
          "base_uri": "https://localhost:8080/"
        },
        "id": "fzOlfMyPF0RN",
        "outputId": "f087b575-cd6f-4d24-f88f-3b075bd9f2fb"
      },
      "execution_count": 29,
      "outputs": [
        {
          "output_type": "stream",
          "name": "stdout",
          "text": [
            "Below is an instruction that describes a task. Write a response that appropriately completes the request.\n",
            "\n",
            "### Instruction:\n",
            "Answer the following question.\n",
            "\n",
            "### Input:\n",
            "How much cash and cash equivalents did the company have at the end of 2023, and how does this compare to the end of 2022?\n"
          ]
        }
      ]
    },
    {
      "cell_type": "code",
      "source": [
        "token_ids = generate(\n",
        "    model=model,\n",
        "    idx=text_to_token_ids(input_text, tokenizer),\n",
        "    max_new_tokens=35,\n",
        "    context_size=BASE_CONFIG[\"context_length\"],\n",
        "    eos_id=50256,\n",
        ")\n",
        "generated_text = token_ids_to_text(token_ids, tokenizer)"
      ],
      "metadata": {
        "id": "Jh0PbFJXGByQ"
      },
      "execution_count": 30,
      "outputs": []
    },
    {
      "cell_type": "code",
      "source": [
        "response_text = generated_text[len(input_text):].strip()\n",
        "print(response_text)"
      ],
      "metadata": {
        "colab": {
          "base_uri": "https://localhost:8080/"
        },
        "id": "JX6nb8BJGhG-",
        "outputId": "fb2fee6e-1717-4f89-8348-f330743fcbd6"
      },
      "execution_count": 31,
      "outputs": [
        {
          "output_type": "stream",
          "name": "stdout",
          "text": [
            "### Output:\n",
            "\n",
            "How much cash and cash equivalents did the company have at the end of 2023, and how does this compare to the end of 2022?\n"
          ]
        }
      ]
    },
    {
      "cell_type": "code",
      "source": [
        "torch.manual_seed(123)\n",
        "input_text = format_input(val_data[0])\n",
        "print(input_text)\n",
        "print()\n",
        "print(\"### Output:\")\n",
        "print(response_text)"
      ],
      "metadata": {
        "colab": {
          "base_uri": "https://localhost:8080/"
        },
        "id": "YJeUcBiAWLR-",
        "outputId": "8645f645-ab00-4a6c-c364-0b73e5a51869"
      },
      "execution_count": 32,
      "outputs": [
        {
          "output_type": "stream",
          "name": "stdout",
          "text": [
            "Below is an instruction that describes a task. Write a response that appropriately completes the request.\n",
            "\n",
            "### Instruction:\n",
            "Answer the following question.\n",
            "\n",
            "### Input:\n",
            "How much cash and cash equivalents did the company have at the end of 2023, and how does this compare to the end of 2022?\n",
            "\n",
            "### Output:\n",
            "### Output:\n",
            "\n",
            "How much cash and cash equivalents did the company have at the end of 2023, and how does this compare to the end of 2022?\n"
          ]
        }
      ]
    },
    {
      "cell_type": "markdown",
      "source": [
        "### 9. Finetune the LLM"
      ],
      "metadata": {
        "id": "4gw-i9_gH_LR"
      }
    },
    {
      "cell_type": "code",
      "source": [
        "def calc_loss_batch(input_batch, target_batch, model, device):\n",
        "    input_batch = input_batch.to(device)\n",
        "    target_batch = target_batch.to(device)\n",
        "    model.to(device)\n",
        "    logits = model(input_batch)\n",
        "    loss = torch.nn.functional.cross_entropy(\n",
        "        logits.flatten(0, 1), target_batch.flatten()\n",
        "    )\n",
        "    return loss"
      ],
      "metadata": {
        "id": "9pyFG6JJPcCb"
      },
      "execution_count": 33,
      "outputs": []
    },
    {
      "cell_type": "code",
      "source": [
        "def calc_loss_loader(data_loader, model, device, num_batches=None):\n",
        "    total_loss = 0.\n",
        "    if len(data_loader) == 0:\n",
        "        return float(\"nan\")\n",
        "    elif num_batches is None:\n",
        "        num_batches = len(data_loader)\n",
        "    else:\n",
        "        num_batches = min(num_batches, len(data_loader))\n",
        "    for i, (input_batch, target_batch) in enumerate(data_loader):\n",
        "        if i < num_batches:\n",
        "            loss = calc_loss_batch(\n",
        "                input_batch, target_batch, model, device\n",
        "            )\n",
        "            total_loss += loss.item()\n",
        "        else:\n",
        "            break\n",
        "    return total_loss / num_batches"
      ],
      "metadata": {
        "id": "IoHZ02F8-2uz"
      },
      "execution_count": 34,
      "outputs": []
    },
    {
      "cell_type": "code",
      "source": [
        "def evaluate_model(model, train_loader, val_loader, device, eval_iter):\n",
        "    model.eval()\n",
        "    with torch.no_grad():\n",
        "        train_loss = calc_loss_loader(\n",
        "            train_loader, model, device, num_batches=eval_iter\n",
        "        )\n",
        "        val_loss = calc_loss_loader(\n",
        "            val_loader, model, device, num_batches=eval_iter\n",
        "        )\n",
        "    model.train()\n",
        "    return train_loss, val_loss"
      ],
      "metadata": {
        "id": "lpIUVnxfPfHe"
      },
      "execution_count": 35,
      "outputs": []
    },
    {
      "cell_type": "code",
      "source": [
        "def generate_text_simple(model, idx,\n",
        "                         max_new_tokens, context_size):\n",
        "    for _ in range(max_new_tokens):\n",
        "        idx_cond = idx[:, -context_size:]\n",
        "        with torch.no_grad():\n",
        "            logits = model(idx_cond)\n",
        "\n",
        "        logits = logits[:, -1, :]\n",
        "        probas = torch.softmax(logits, dim=-1)\n",
        "        idx_next = torch.argmax(probas, dim=-1, keepdim=True)\n",
        "        idx = torch.cat((idx, idx_next), dim=1)\n",
        "\n",
        "    return idx\n",
        "\n",
        "def generate_and_print_sample(model, tokenizer, device, start_context):\n",
        "    model.eval()\n",
        "    context_size = model.pos_emb.weight.shape[0]\n",
        "    encoded = text_to_token_ids(start_context, tokenizer).to(device)\n",
        "    with torch.no_grad():\n",
        "        token_ids = generate_text_simple(\n",
        "            model=model, idx=encoded,\n",
        "            max_new_tokens=50, context_size=context_size\n",
        "        )\n",
        "    decoded_text = token_ids_to_text(token_ids, tokenizer)\n",
        "    print(decoded_text.replace(\"\\n\", \" \"))\n",
        "    model.train()"
      ],
      "metadata": {
        "id": "TZRpdZVbPiBQ"
      },
      "execution_count": 36,
      "outputs": []
    },
    {
      "cell_type": "code",
      "source": [
        "def train_model_simple(\n",
        "    model,\n",
        "    train_loader,\n",
        "    val_loader,\n",
        "    optimizer,\n",
        "    device,\n",
        "    num_epochs,\n",
        "    eval_freq,\n",
        "    eval_iter,\n",
        "    start_context,\n",
        "    tokenizer,\n",
        "):\n",
        "  train_losses, val_losses, track_tokens_seen = [], [], []\n",
        "  tokens_seen, global_step = 0, -1\n",
        "\n",
        "  for epoch in range(num_epochs):\n",
        "      model.train()\n",
        "      for input_batch, target_batch in train_loader:\n",
        "          optimizer.zero_grad()\n",
        "          loss = calc_loss_batch(\n",
        "              input_batch, target_batch, model, device\n",
        "          )\n",
        "          loss.backward()\n",
        "          optimizer.step()\n",
        "          tokens_seen += input_batch.numel()\n",
        "          global_step += 1\n",
        "\n",
        "          if global_step % eval_freq == 0:\n",
        "              train_loss, val_loss = evaluate_model(\n",
        "                  model, train_loader, val_loader, device, eval_iter)\n",
        "              train_losses.append(train_loss)\n",
        "              val_losses.append(val_loss)\n",
        "              track_tokens_seen.append(tokens_seen)\n",
        "              print(f\"Ep {epoch+1} (Step {global_step:06d}): \"\n",
        "                    f\"Train loss {train_loss:.3f}, \"\n",
        "                    f\"Val loss {val_loss:.3f}\"\n",
        "              )\n",
        "\n",
        "      generate_and_print_sample(\n",
        "          model, tokenizer, device, start_context\n",
        "      )\n",
        "  return train_losses, val_losses, track_tokens_seen"
      ],
      "metadata": {
        "id": "pLJ43cwa--JM"
      },
      "execution_count": 37,
      "outputs": []
    },
    {
      "cell_type": "code",
      "source": [
        "model.to(device)\n",
        "torch.manual_seed(123)\n",
        "\n",
        "with torch.no_grad():\n",
        "    train_loss = calc_loss_loader(\n",
        "        train_loader, model, device, num_batches=5\n",
        "    )\n",
        "    val_loss = calc_loss_loader(\n",
        "        val_loader, model, device, num_batches=5\n",
        ")\n",
        "\n",
        "print(\"Training loss:\", train_loss)\n",
        "print(\"Validation loss:\", val_loss)"
      ],
      "metadata": {
        "colab": {
          "base_uri": "https://localhost:8080/"
        },
        "id": "lUUtThpN_TH4",
        "outputId": "1ffc60a5-ad60-40c9-f3c8-9148ed73be15"
      },
      "execution_count": 38,
      "outputs": [
        {
          "output_type": "stream",
          "name": "stdout",
          "text": [
            "Training loss: 3.6915621757507324\n",
            "Validation loss: 3.8882946968078613\n"
          ]
        }
      ]
    },
    {
      "cell_type": "code",
      "source": [
        "import time\n",
        "\n",
        "start_time = time.time()\n",
        "torch.manual_seed(123)\n",
        "optimizer = torch.optim.AdamW(\n",
        "    model.parameters(), lr=0.00005, weight_decay=0.1\n",
        ")\n",
        "num_epochs = 2\n",
        "\n",
        "train_losses, val_losses, tokens_seen = train_model_simple(\n",
        "    model, train_loader, val_loader, optimizer, device,\n",
        "    num_epochs=num_epochs, eval_freq=5, eval_iter=5,\n",
        "    start_context=format_input(val_data[0]), tokenizer=tokenizer\n",
        ")\n",
        "\n",
        "end_time = time.time()\n",
        "execution_time_minutes = (end_time - start_time) / 60\n",
        "print(f\"Training completed in {execution_time_minutes:.2f} minutes.\")"
      ],
      "metadata": {
        "id": "GxMOtF8f_VHh",
        "colab": {
          "base_uri": "https://localhost:8080/"
        },
        "outputId": "91d43c02-1c7f-4dea-e4df-b25f22465287"
      },
      "execution_count": 39,
      "outputs": [
        {
          "output_type": "stream",
          "name": "stdout",
          "text": [
            "Ep 1 (Step 000000): Train loss 2.683, Val loss 2.721\n",
            "Ep 1 (Step 000005): Train loss 1.336, Val loss 1.216\n",
            "Ep 1 (Step 000010): Train loss 1.316, Val loss 1.082\n",
            "Ep 1 (Step 000015): Train loss 1.311, Val loss 1.073\n",
            "Ep 1 (Step 000020): Train loss 1.333, Val loss 1.051\n",
            "Ep 1 (Step 000025): Train loss 1.284, Val loss 1.034\n",
            "Ep 1 (Step 000030): Train loss 1.141, Val loss 1.039\n",
            "Ep 1 (Step 000035): Train loss 1.178, Val loss 1.027\n",
            "Ep 1 (Step 000040): Train loss 1.092, Val loss 1.024\n",
            "Ep 1 (Step 000045): Train loss 1.195, Val loss 1.010\n",
            "Ep 1 (Step 000050): Train loss 1.213, Val loss 1.013\n",
            "Ep 1 (Step 000055): Train loss 1.323, Val loss 1.005\n",
            "Ep 1 (Step 000060): Train loss 1.323, Val loss 1.007\n",
            "Ep 1 (Step 000065): Train loss 1.247, Val loss 1.009\n",
            "Ep 1 (Step 000070): Train loss 1.084, Val loss 0.996\n",
            "Ep 1 (Step 000075): Train loss 1.274, Val loss 0.986\n",
            "Ep 1 (Step 000080): Train loss 1.185, Val loss 0.983\n",
            "Ep 1 (Step 000085): Train loss 1.175, Val loss 0.987\n",
            "Ep 1 (Step 000090): Train loss 1.169, Val loss 0.993\n",
            "Ep 1 (Step 000095): Train loss 1.047, Val loss 0.991\n",
            "Ep 1 (Step 000100): Train loss 1.121, Val loss 0.985\n",
            "Ep 1 (Step 000105): Train loss 1.317, Val loss 0.977\n",
            "Ep 1 (Step 000110): Train loss 1.145, Val loss 0.979\n",
            "Ep 1 (Step 000115): Train loss 1.069, Val loss 0.977\n",
            "Ep 1 (Step 000120): Train loss 1.135, Val loss 0.975\n",
            "Ep 1 (Step 000125): Train loss 1.125, Val loss 0.971\n",
            "Ep 1 (Step 000130): Train loss 1.251, Val loss 0.969\n",
            "Ep 1 (Step 000135): Train loss 1.143, Val loss 0.976\n",
            "Ep 1 (Step 000140): Train loss 1.153, Val loss 0.969\n",
            "Ep 1 (Step 000145): Train loss 1.111, Val loss 0.960\n",
            "Ep 1 (Step 000150): Train loss 1.072, Val loss 0.957\n",
            "Ep 1 (Step 000155): Train loss 1.005, Val loss 0.957\n",
            "Ep 1 (Step 000160): Train loss 1.080, Val loss 0.956\n",
            "Ep 1 (Step 000165): Train loss 1.095, Val loss 0.965\n",
            "Ep 1 (Step 000170): Train loss 1.128, Val loss 0.958\n",
            "Ep 1 (Step 000175): Train loss 1.064, Val loss 0.954\n",
            "Ep 1 (Step 000180): Train loss 1.109, Val loss 0.958\n",
            "Ep 1 (Step 000185): Train loss 1.045, Val loss 0.963\n",
            "Ep 1 (Step 000190): Train loss 1.143, Val loss 0.954\n",
            "Ep 1 (Step 000195): Train loss 1.047, Val loss 0.953\n",
            "Ep 1 (Step 000200): Train loss 1.116, Val loss 0.958\n",
            "Ep 1 (Step 000205): Train loss 1.154, Val loss 0.952\n",
            "Ep 1 (Step 000210): Train loss 1.213, Val loss 0.952\n",
            "Ep 1 (Step 000215): Train loss 1.116, Val loss 0.944\n",
            "Ep 1 (Step 000220): Train loss 1.069, Val loss 0.943\n",
            "Ep 1 (Step 000225): Train loss 1.046, Val loss 0.948\n",
            "Ep 1 (Step 000230): Train loss 1.245, Val loss 0.949\n",
            "Ep 1 (Step 000235): Train loss 1.055, Val loss 0.949\n",
            "Ep 1 (Step 000240): Train loss 1.064, Val loss 0.954\n",
            "Ep 1 (Step 000245): Train loss 1.120, Val loss 0.954\n",
            "Ep 1 (Step 000250): Train loss 1.083, Val loss 0.961\n",
            "Ep 1 (Step 000255): Train loss 1.030, Val loss 0.956\n",
            "Ep 1 (Step 000260): Train loss 1.027, Val loss 0.949\n",
            "Ep 1 (Step 000265): Train loss 1.083, Val loss 0.947\n",
            "Ep 1 (Step 000270): Train loss 1.016, Val loss 0.940\n",
            "Ep 1 (Step 000275): Train loss 1.105, Val loss 0.941\n",
            "Ep 1 (Step 000280): Train loss 1.107, Val loss 0.939\n",
            "Ep 1 (Step 000285): Train loss 1.086, Val loss 0.932\n",
            "Ep 1 (Step 000290): Train loss 1.056, Val loss 0.939\n",
            "Ep 1 (Step 000295): Train loss 1.050, Val loss 0.939\n",
            "Ep 1 (Step 000300): Train loss 0.887, Val loss 0.942\n",
            "Ep 1 (Step 000305): Train loss 0.954, Val loss 0.939\n",
            "Ep 1 (Step 000310): Train loss 1.000, Val loss 0.930\n",
            "Ep 1 (Step 000315): Train loss 1.100, Val loss 0.924\n",
            "Ep 1 (Step 000320): Train loss 0.894, Val loss 0.931\n",
            "Ep 1 (Step 000325): Train loss 0.958, Val loss 0.938\n",
            "Ep 1 (Step 000330): Train loss 0.967, Val loss 0.950\n",
            "Ep 1 (Step 000335): Train loss 1.114, Val loss 0.953\n",
            "Ep 1 (Step 000340): Train loss 1.110, Val loss 0.943\n",
            "Ep 1 (Step 000345): Train loss 1.033, Val loss 0.931\n",
            "Ep 1 (Step 000350): Train loss 1.065, Val loss 0.928\n",
            "Ep 1 (Step 000355): Train loss 1.072, Val loss 0.930\n",
            "Ep 1 (Step 000360): Train loss 0.980, Val loss 0.932\n",
            "Ep 1 (Step 000365): Train loss 0.991, Val loss 0.935\n",
            "Ep 1 (Step 000370): Train loss 1.075, Val loss 0.941\n",
            "Ep 1 (Step 000375): Train loss 1.048, Val loss 0.935\n",
            "Ep 1 (Step 000380): Train loss 1.011, Val loss 0.928\n",
            "Ep 1 (Step 000385): Train loss 0.997, Val loss 0.929\n",
            "Ep 1 (Step 000390): Train loss 1.111, Val loss 0.931\n",
            "Ep 1 (Step 000395): Train loss 1.000, Val loss 0.931\n",
            "Ep 1 (Step 000400): Train loss 1.037, Val loss 0.930\n",
            "Ep 1 (Step 000405): Train loss 0.912, Val loss 0.926\n",
            "Ep 1 (Step 000410): Train loss 1.083, Val loss 0.931\n",
            "Ep 1 (Step 000415): Train loss 1.018, Val loss 0.935\n",
            "Ep 1 (Step 000420): Train loss 1.000, Val loss 0.933\n",
            "Ep 1 (Step 000425): Train loss 0.932, Val loss 0.926\n",
            "Ep 1 (Step 000430): Train loss 1.009, Val loss 0.929\n",
            "Ep 1 (Step 000435): Train loss 1.050, Val loss 0.933\n",
            "Ep 1 (Step 000440): Train loss 0.956, Val loss 0.932\n",
            "Ep 1 (Step 000445): Train loss 0.994, Val loss 0.930\n",
            "Ep 1 (Step 000450): Train loss 0.950, Val loss 0.925\n",
            "Ep 1 (Step 000455): Train loss 1.068, Val loss 0.924\n",
            "Ep 1 (Step 000460): Train loss 1.079, Val loss 0.918\n",
            "Ep 1 (Step 000465): Train loss 0.933, Val loss 0.918\n",
            "Ep 1 (Step 000470): Train loss 1.029, Val loss 0.926\n",
            "Ep 1 (Step 000475): Train loss 0.937, Val loss 0.929\n",
            "Ep 1 (Step 000480): Train loss 1.027, Val loss 0.930\n",
            "Ep 1 (Step 000485): Train loss 1.080, Val loss 0.933\n",
            "Ep 1 (Step 000490): Train loss 0.969, Val loss 0.937\n",
            "Ep 1 (Step 000495): Train loss 0.889, Val loss 0.932\n",
            "Ep 1 (Step 000500): Train loss 0.948, Val loss 0.929\n",
            "Ep 1 (Step 000505): Train loss 0.896, Val loss 0.925\n",
            "Ep 1 (Step 000510): Train loss 0.998, Val loss 0.930\n",
            "Ep 1 (Step 000515): Train loss 0.920, Val loss 0.930\n",
            "Ep 1 (Step 000520): Train loss 0.846, Val loss 0.927\n",
            "Ep 1 (Step 000525): Train loss 0.946, Val loss 0.926\n",
            "Ep 1 (Step 000530): Train loss 0.933, Val loss 0.926\n",
            "Ep 1 (Step 000535): Train loss 0.910, Val loss 0.923\n",
            "Ep 1 (Step 000540): Train loss 0.923, Val loss 0.926\n",
            "Ep 1 (Step 000545): Train loss 0.983, Val loss 0.926\n",
            "Ep 1 (Step 000550): Train loss 0.934, Val loss 0.920\n",
            "Ep 1 (Step 000555): Train loss 0.849, Val loss 0.919\n",
            "Ep 1 (Step 000560): Train loss 0.939, Val loss 0.919\n",
            "Ep 1 (Step 000565): Train loss 0.879, Val loss 0.920\n",
            "Ep 1 (Step 000570): Train loss 1.048, Val loss 0.923\n",
            "Ep 1 (Step 000575): Train loss 0.995, Val loss 0.924\n",
            "Ep 1 (Step 000580): Train loss 1.063, Val loss 0.922\n",
            "Ep 1 (Step 000585): Train loss 0.933, Val loss 0.920\n",
            "Ep 1 (Step 000590): Train loss 0.870, Val loss 0.916\n",
            "Ep 1 (Step 000595): Train loss 0.897, Val loss 0.918\n",
            "Ep 1 (Step 000600): Train loss 0.997, Val loss 0.918\n",
            "Ep 1 (Step 000605): Train loss 0.948, Val loss 0.919\n",
            "Ep 1 (Step 000610): Train loss 0.971, Val loss 0.918\n",
            "Ep 1 (Step 000615): Train loss 0.936, Val loss 0.920\n",
            "Ep 1 (Step 000620): Train loss 0.834, Val loss 0.920\n",
            "Ep 1 (Step 000625): Train loss 0.849, Val loss 0.921\n",
            "Ep 1 (Step 000630): Train loss 0.949, Val loss 0.925\n",
            "Ep 1 (Step 000635): Train loss 0.837, Val loss 0.926\n",
            "Ep 1 (Step 000640): Train loss 0.817, Val loss 0.926\n",
            "Ep 1 (Step 000645): Train loss 0.876, Val loss 0.924\n",
            "Ep 1 (Step 000650): Train loss 1.018, Val loss 0.921\n",
            "Ep 1 (Step 000655): Train loss 1.013, Val loss 0.919\n",
            "Ep 1 (Step 000660): Train loss 0.935, Val loss 0.916\n",
            "Ep 1 (Step 000665): Train loss 0.891, Val loss 0.913\n",
            "Ep 1 (Step 000670): Train loss 0.881, Val loss 0.915\n",
            "Ep 1 (Step 000675): Train loss 0.964, Val loss 0.915\n",
            "Ep 1 (Step 000680): Train loss 0.819, Val loss 0.919\n",
            "Ep 1 (Step 000685): Train loss 0.845, Val loss 0.923\n",
            "Ep 1 (Step 000690): Train loss 0.848, Val loss 0.922\n",
            "Ep 1 (Step 000695): Train loss 0.852, Val loss 0.921\n",
            "Ep 1 (Step 000700): Train loss 0.876, Val loss 0.924\n",
            "Ep 1 (Step 000705): Train loss 0.928, Val loss 0.926\n",
            "Ep 1 (Step 000710): Train loss 0.839, Val loss 0.922\n",
            "Ep 1 (Step 000715): Train loss 0.857, Val loss 0.917\n",
            "Ep 1 (Step 000720): Train loss 0.801, Val loss 0.917\n",
            "Ep 1 (Step 000725): Train loss 0.866, Val loss 0.916\n",
            "Ep 1 (Step 000730): Train loss 0.940, Val loss 0.917\n",
            "Ep 1 (Step 000735): Train loss 0.884, Val loss 0.918\n",
            "Ep 1 (Step 000740): Train loss 0.915, Val loss 0.917\n",
            "Below is an instruction that describes a task. Write a response that appropriately completes the request.  ### Instruction: Answer the following question.  ### Input: How much cash and cash equivalents did the company have at the end of 2023, and how does this compare to the end of 2022?  ### Response: The company had $1,902 million in cash and cash equivalents at the end of 2023, compared to $1,902 million at the end of 2022.<|endoftext|>The U.S. Supreme Court has\n",
            "Ep 2 (Step 000745): Train loss 0.921, Val loss 0.914\n",
            "Ep 2 (Step 000750): Train loss 0.839, Val loss 0.917\n",
            "Ep 2 (Step 000755): Train loss 0.957, Val loss 0.931\n",
            "Ep 2 (Step 000760): Train loss 0.878, Val loss 0.932\n",
            "Ep 2 (Step 000765): Train loss 0.926, Val loss 0.933\n",
            "Ep 2 (Step 000770): Train loss 0.930, Val loss 0.938\n",
            "Ep 2 (Step 000775): Train loss 0.829, Val loss 0.944\n",
            "Ep 2 (Step 000780): Train loss 0.836, Val loss 0.953\n",
            "Ep 2 (Step 000785): Train loss 0.831, Val loss 0.953\n",
            "Ep 2 (Step 000790): Train loss 0.898, Val loss 0.946\n",
            "Ep 2 (Step 000795): Train loss 0.926, Val loss 0.942\n",
            "Ep 2 (Step 000800): Train loss 0.801, Val loss 0.936\n",
            "Ep 2 (Step 000805): Train loss 0.774, Val loss 0.940\n",
            "Ep 2 (Step 000810): Train loss 0.792, Val loss 0.943\n",
            "Ep 2 (Step 000815): Train loss 0.990, Val loss 0.941\n",
            "Ep 2 (Step 000820): Train loss 0.884, Val loss 0.934\n",
            "Ep 2 (Step 000825): Train loss 0.789, Val loss 0.937\n",
            "Ep 2 (Step 000830): Train loss 0.829, Val loss 0.938\n",
            "Ep 2 (Step 000835): Train loss 0.733, Val loss 0.929\n",
            "Ep 2 (Step 000840): Train loss 0.886, Val loss 0.923\n",
            "Ep 2 (Step 000845): Train loss 0.684, Val loss 0.927\n",
            "Ep 2 (Step 000850): Train loss 0.828, Val loss 0.934\n",
            "Ep 2 (Step 000855): Train loss 0.703, Val loss 0.933\n",
            "Ep 2 (Step 000860): Train loss 0.939, Val loss 0.930\n",
            "Ep 2 (Step 000865): Train loss 0.777, Val loss 0.931\n",
            "Ep 2 (Step 000870): Train loss 0.865, Val loss 0.934\n",
            "Ep 2 (Step 000875): Train loss 0.773, Val loss 0.936\n",
            "Ep 2 (Step 000880): Train loss 0.777, Val loss 0.941\n",
            "Ep 2 (Step 000885): Train loss 0.824, Val loss 0.938\n",
            "Ep 2 (Step 000890): Train loss 0.821, Val loss 0.931\n",
            "Ep 2 (Step 000895): Train loss 0.790, Val loss 0.934\n",
            "Ep 2 (Step 000900): Train loss 0.734, Val loss 0.941\n",
            "Ep 2 (Step 000905): Train loss 0.715, Val loss 0.950\n",
            "Ep 2 (Step 000910): Train loss 0.795, Val loss 0.946\n",
            "Ep 2 (Step 000915): Train loss 0.792, Val loss 0.940\n",
            "Ep 2 (Step 000920): Train loss 0.862, Val loss 0.935\n",
            "Ep 2 (Step 000925): Train loss 0.910, Val loss 0.935\n",
            "Ep 2 (Step 000930): Train loss 0.852, Val loss 0.938\n",
            "Ep 2 (Step 000935): Train loss 0.794, Val loss 0.932\n",
            "Ep 2 (Step 000940): Train loss 0.768, Val loss 0.922\n",
            "Ep 2 (Step 000945): Train loss 0.768, Val loss 0.921\n",
            "Ep 2 (Step 000950): Train loss 0.823, Val loss 0.927\n",
            "Ep 2 (Step 000955): Train loss 0.680, Val loss 0.934\n",
            "Ep 2 (Step 000960): Train loss 0.758, Val loss 0.936\n",
            "Ep 2 (Step 000965): Train loss 0.792, Val loss 0.935\n",
            "Ep 2 (Step 000970): Train loss 0.821, Val loss 0.934\n",
            "Ep 2 (Step 000975): Train loss 0.727, Val loss 0.932\n",
            "Ep 2 (Step 000980): Train loss 0.717, Val loss 0.934\n",
            "Ep 2 (Step 000985): Train loss 0.796, Val loss 0.935\n",
            "Ep 2 (Step 000990): Train loss 0.688, Val loss 0.937\n",
            "Ep 2 (Step 000995): Train loss 0.831, Val loss 0.936\n",
            "Ep 2 (Step 001000): Train loss 0.751, Val loss 0.933\n",
            "Ep 2 (Step 001005): Train loss 0.815, Val loss 0.934\n",
            "Ep 2 (Step 001010): Train loss 0.780, Val loss 0.935\n",
            "Ep 2 (Step 001015): Train loss 0.805, Val loss 0.934\n",
            "Ep 2 (Step 001020): Train loss 0.809, Val loss 0.932\n",
            "Ep 2 (Step 001025): Train loss 0.702, Val loss 0.930\n",
            "Ep 2 (Step 001030): Train loss 0.832, Val loss 0.932\n",
            "Ep 2 (Step 001035): Train loss 0.751, Val loss 0.936\n",
            "Ep 2 (Step 001040): Train loss 0.787, Val loss 0.926\n",
            "Ep 2 (Step 001045): Train loss 0.746, Val loss 0.918\n",
            "Ep 2 (Step 001050): Train loss 0.808, Val loss 0.915\n",
            "Ep 2 (Step 001055): Train loss 0.827, Val loss 0.915\n",
            "Ep 2 (Step 001060): Train loss 0.646, Val loss 0.919\n",
            "Ep 2 (Step 001065): Train loss 0.706, Val loss 0.926\n",
            "Ep 2 (Step 001070): Train loss 0.773, Val loss 0.925\n",
            "Ep 2 (Step 001075): Train loss 0.733, Val loss 0.921\n",
            "Ep 2 (Step 001080): Train loss 0.772, Val loss 0.915\n",
            "Ep 2 (Step 001085): Train loss 0.658, Val loss 0.911\n",
            "Ep 2 (Step 001090): Train loss 0.730, Val loss 0.906\n",
            "Ep 2 (Step 001095): Train loss 0.865, Val loss 0.903\n",
            "Ep 2 (Step 001100): Train loss 0.704, Val loss 0.909\n",
            "Ep 2 (Step 001105): Train loss 0.704, Val loss 0.911\n",
            "Ep 2 (Step 001110): Train loss 0.717, Val loss 0.912\n",
            "Ep 2 (Step 001115): Train loss 0.788, Val loss 0.908\n",
            "Ep 2 (Step 001120): Train loss 0.739, Val loss 0.904\n",
            "Ep 2 (Step 001125): Train loss 0.850, Val loss 0.902\n",
            "Ep 2 (Step 001130): Train loss 0.789, Val loss 0.904\n",
            "Ep 2 (Step 001135): Train loss 0.792, Val loss 0.900\n",
            "Ep 2 (Step 001140): Train loss 0.679, Val loss 0.901\n",
            "Ep 2 (Step 001145): Train loss 0.789, Val loss 0.908\n",
            "Ep 2 (Step 001150): Train loss 0.771, Val loss 0.913\n",
            "Ep 2 (Step 001155): Train loss 0.773, Val loss 0.910\n",
            "Ep 2 (Step 001160): Train loss 0.734, Val loss 0.909\n",
            "Ep 2 (Step 001165): Train loss 0.803, Val loss 0.908\n",
            "Ep 2 (Step 001170): Train loss 0.725, Val loss 0.908\n",
            "Ep 2 (Step 001175): Train loss 0.637, Val loss 0.907\n",
            "Ep 2 (Step 001180): Train loss 0.729, Val loss 0.905\n",
            "Ep 2 (Step 001185): Train loss 0.812, Val loss 0.902\n",
            "Ep 2 (Step 001190): Train loss 0.672, Val loss 0.903\n",
            "Ep 2 (Step 001195): Train loss 0.685, Val loss 0.908\n",
            "Ep 2 (Step 001200): Train loss 0.720, Val loss 0.910\n",
            "Ep 2 (Step 001205): Train loss 0.710, Val loss 0.910\n",
            "Ep 2 (Step 001210): Train loss 0.655, Val loss 0.914\n",
            "Ep 2 (Step 001215): Train loss 0.732, Val loss 0.920\n",
            "Ep 2 (Step 001220): Train loss 0.687, Val loss 0.925\n",
            "Ep 2 (Step 001225): Train loss 0.789, Val loss 0.924\n",
            "Ep 2 (Step 001230): Train loss 0.791, Val loss 0.920\n",
            "Ep 2 (Step 001235): Train loss 0.709, Val loss 0.925\n",
            "Ep 2 (Step 001240): Train loss 0.717, Val loss 0.929\n",
            "Ep 2 (Step 001245): Train loss 0.693, Val loss 0.922\n",
            "Ep 2 (Step 001250): Train loss 0.705, Val loss 0.922\n",
            "Ep 2 (Step 001255): Train loss 0.670, Val loss 0.924\n",
            "Ep 2 (Step 001260): Train loss 0.644, Val loss 0.922\n",
            "Ep 2 (Step 001265): Train loss 0.749, Val loss 0.920\n",
            "Ep 2 (Step 001270): Train loss 0.632, Val loss 0.921\n",
            "Ep 2 (Step 001275): Train loss 0.761, Val loss 0.917\n",
            "Ep 2 (Step 001280): Train loss 0.680, Val loss 0.912\n",
            "Ep 2 (Step 001285): Train loss 0.704, Val loss 0.916\n",
            "Ep 2 (Step 001290): Train loss 0.681, Val loss 0.916\n",
            "Ep 2 (Step 001295): Train loss 0.637, Val loss 0.908\n",
            "Ep 2 (Step 001300): Train loss 0.716, Val loss 0.907\n",
            "Ep 2 (Step 001305): Train loss 0.682, Val loss 0.909\n",
            "Ep 2 (Step 001310): Train loss 0.655, Val loss 0.909\n",
            "Ep 2 (Step 001315): Train loss 0.685, Val loss 0.909\n",
            "Ep 2 (Step 001320): Train loss 0.730, Val loss 0.910\n",
            "Ep 2 (Step 001325): Train loss 0.602, Val loss 0.915\n",
            "Ep 2 (Step 001330): Train loss 0.637, Val loss 0.913\n",
            "Ep 2 (Step 001335): Train loss 0.677, Val loss 0.915\n",
            "Ep 2 (Step 001340): Train loss 0.663, Val loss 0.912\n",
            "Ep 2 (Step 001345): Train loss 0.748, Val loss 0.908\n",
            "Ep 2 (Step 001350): Train loss 0.783, Val loss 0.905\n",
            "Ep 2 (Step 001355): Train loss 0.762, Val loss 0.901\n",
            "Ep 2 (Step 001360): Train loss 0.721, Val loss 0.902\n",
            "Ep 2 (Step 001365): Train loss 0.678, Val loss 0.908\n",
            "Ep 2 (Step 001370): Train loss 0.578, Val loss 0.914\n",
            "Ep 2 (Step 001375): Train loss 0.705, Val loss 0.917\n",
            "Ep 2 (Step 001380): Train loss 0.667, Val loss 0.914\n",
            "Ep 2 (Step 001385): Train loss 0.618, Val loss 0.911\n",
            "Ep 2 (Step 001390): Train loss 0.729, Val loss 0.911\n",
            "Ep 2 (Step 001395): Train loss 0.677, Val loss 0.908\n",
            "Ep 2 (Step 001400): Train loss 0.718, Val loss 0.905\n",
            "Ep 2 (Step 001405): Train loss 0.714, Val loss 0.907\n",
            "Ep 2 (Step 001410): Train loss 0.564, Val loss 0.909\n",
            "Ep 2 (Step 001415): Train loss 0.672, Val loss 0.914\n",
            "Ep 2 (Step 001420): Train loss 0.639, Val loss 0.914\n",
            "Ep 2 (Step 001425): Train loss 0.742, Val loss 0.912\n",
            "Ep 2 (Step 001430): Train loss 0.648, Val loss 0.906\n",
            "Ep 2 (Step 001435): Train loss 0.626, Val loss 0.902\n",
            "Ep 2 (Step 001440): Train loss 0.609, Val loss 0.900\n",
            "Ep 2 (Step 001445): Train loss 0.677, Val loss 0.900\n",
            "Ep 2 (Step 001450): Train loss 0.628, Val loss 0.903\n",
            "Ep 2 (Step 001455): Train loss 0.650, Val loss 0.905\n",
            "Ep 2 (Step 001460): Train loss 0.626, Val loss 0.904\n",
            "Ep 2 (Step 001465): Train loss 0.648, Val loss 0.903\n",
            "Ep 2 (Step 001470): Train loss 0.671, Val loss 0.910\n",
            "Ep 2 (Step 001475): Train loss 0.700, Val loss 0.909\n",
            "Ep 2 (Step 001480): Train loss 0.679, Val loss 0.907\n",
            "Ep 2 (Step 001485): Train loss 0.625, Val loss 0.904\n",
            "Below is an instruction that describes a task. Write a response that appropriately completes the request.  ### Instruction: Answer the following question.  ### Input: How much cash and cash equivalents did the company have at the end of 2023, and how does this compare to the end of 2022?  ### Response: At the end of 2023, the company had cash and cash equivalents of $1,859.8 million, compared to $1,859.6 million at the end of 2022.<|endoftext|>The company's\n",
            "Training completed in 29.32 minutes.\n"
          ]
        }
      ]
    },
    {
      "cell_type": "code",
      "source": [
        "import matplotlib.pyplot as plt\n",
        "from matplotlib.ticker import MaxNLocator\n",
        "\n",
        "def plot_losses(epochs_seen, tokens_seen, train_losses, val_losses):\n",
        "    fig, ax1 = plt.subplots(figsize=(5, 3))\n",
        "    ax1.plot(epochs_seen, train_losses, label=\"Training loss\")\n",
        "    ax1.plot(\n",
        "        epochs_seen, val_losses, linestyle=\"-.\", label=\"Validation loss\"\n",
        "    )\n",
        "    ax1.set_xlabel(\"Epochs\")\n",
        "    ax1.set_ylabel(\"Loss\")\n",
        "    ax1.legend(loc=\"upper right\")\n",
        "    ax1.xaxis.set_major_locator(MaxNLocator(integer=True))\n",
        "    ax2 = ax1.twiny()\n",
        "    ax2.plot(tokens_seen, train_losses, alpha=0)\n",
        "    ax2.set_xlabel(\"Tokens seen\")\n",
        "    fig.tight_layout()\n",
        "    plt.show()\n",
        "\n",
        "epochs_tensor = torch.linspace(0, num_epochs, len(train_losses))\n",
        "plot_losses(epochs_tensor, tokens_seen, train_losses, val_losses)"
      ],
      "metadata": {
        "colab": {
          "base_uri": "https://localhost:8080/",
          "height": 307
        },
        "id": "07ef4Oc2_a6Q",
        "outputId": "c62b2aae-b5ce-4de9-a78f-9e44a9491871"
      },
      "execution_count": 40,
      "outputs": [
        {
          "output_type": "display_data",
          "data": {
            "text/plain": [
              "<Figure size 500x300 with 2 Axes>"
            ],
            "image/png": "[encoded data removed]"
          },
          "metadata": {}
        }
      ]
    },
    {
      "cell_type": "markdown",
      "source": [
        "### 10. Save LLM responses"
      ],
      "metadata": {
        "id": "brOhxwRF_m3Z"
      }
    },
    {
      "cell_type": "code",
      "source": [
        "torch.manual_seed(123)\n",
        "\n",
        "for entry in test_data[:3]:\n",
        "    input_text = format_input(entry)\n",
        "    token_ids = generate(\n",
        "        model=model,\n",
        "        idx=text_to_token_ids(input_text, tokenizer).to(device),\n",
        "        max_new_tokens=256,\n",
        "        context_size=BASE_CONFIG[\"context_length\"],\n",
        "        eos_id=50256\n",
        "    )\n",
        "    generated_text = token_ids_to_text(token_ids, tokenizer)\n",
        "\n",
        "    response_text = (\n",
        "        generated_text[len(input_text):]\n",
        "        .replace(\"### Response:\", \"\")\n",
        "        .strip()\n",
        "    )\n",
        "    print(input_text)\n",
        "    print()\n",
        "    print(f\"### Output:\\n{response_text.strip()}\")\n",
        "    print(f\"\\nCorrect response:\\n>> {entry['output']}\")\n",
        "    print()\n",
        "    print()\n",
        "    print(\"-------------------------------------\")"
      ],
      "metadata": {
        "colab": {
          "base_uri": "https://localhost:8080/"
        },
        "id": "035vK0yR_oNa",
        "outputId": "8002c85a-c563-4977-a95f-bbfbd348cd5a"
      },
      "execution_count": 41,
      "outputs": [
        {
          "output_type": "stream",
          "name": "stdout",
          "text": [
            "Below is an instruction that describes a task. Write a response that appropriately completes the request.\n",
            "\n",
            "### Instruction:\n",
            "Answer the following question.\n",
            "\n",
            "### Input:\n",
            "How many countries and territories did Hilton's development pipeline encompass as of the end of 2023?\n",
            "\n",
            "### Output:\n",
            "As of the end of 2023, Hilton's development pipeline encompassed over 220 countries and territories.\n",
            "\n",
            "Correct response:\n",
            ">> 118\n",
            "\n",
            "\n",
            "-------------------------------------\n",
            "Below is an instruction that describes a task. Write a response that appropriately completes the request.\n",
            "\n",
            "### Instruction:\n",
            "Answer the following question.\n",
            "\n",
            "### Input:\n",
            "How does the company manage fluctuations in foreign currency exchange rates?\n",
            "\n",
            "### Output:\n",
            "The company manages fluctuations in foreign currency exchange rates by hedging against them by purchasing U.S. dollar denominated debt securities and by purchasing U.S. dollar-denominated equity securities.\n",
            "\n",
            "Correct response:\n",
            ">> The company hedges foreign currency exchange-based cash flow variability of certain fees using forward contracts designated as hedging instruments. Additionally, it holds short-term forward contracts to offset exposure to fluctuations in its foreign currency denominated cash balances and intercompany financing arrangements, without designating these forward contracts as hedging instruments.\n",
            "\n",
            "\n",
            "-------------------------------------\n",
            "Below is an instruction that describes a task. Write a response that appropriately completes the request.\n",
            "\n",
            "### Instruction:\n",
            "Answer the following question.\n",
            "\n",
            "### Input:\n",
            "What factors contribute to the seasonality of the hospitality industry?\n",
            "\n",
            "### Output:\n",
            "The seasonality of the hospitality industry is influenced by factors such as holiday demand, seasonality of travel, and the number of hotels and resorts.\n",
            "\n",
            "Correct response:\n",
            ">> The seasonality of the hospitality industry is influenced by variations in the levels of demand experienced at different properties, depending on their location, type of property, and the competitive mix within the specific location.\n",
            "\n",
            "\n",
            "-------------------------------------\n"
          ]
        }
      ]
    },
    {
      "cell_type": "code",
      "source": [
        "from tqdm import tqdm\n",
        "import json\n",
        "\n",
        "for i, entry in tqdm(enumerate(test_data), total=len(test_data)):\n",
        "    input_text = format_input(entry)\n",
        "\n",
        "    token_ids = generate(\n",
        "        model=model,\n",
        "        idx=text_to_token_ids(input_text, tokenizer).to(device),\n",
        "        max_new_tokens=256,\n",
        "        context_size=BASE_CONFIG[\"context_length\"],\n",
        "        eos_id=50256\n",
        "    )\n",
        "    generated_text = token_ids_to_text(token_ids, tokenizer)\n",
        "\n",
        "    response_text = (\n",
        "        generated_text[len(input_text):]\n",
        "        .replace(\"### Response:\", \"\")\n",
        "        .strip()\n",
        "    )\n",
        "    test_data[i][\"model_response\"] = response_text\n",
        "\n",
        "with open(\"instruction-data-with-response.json\", \"w\") as file:\n",
        "    json.dump(test_data, file, indent=4)"
      ],
      "metadata": {
        "colab": {
          "base_uri": "https://localhost:8080/"
        },
        "id": "LkgNjm0X_sGT",
        "outputId": "2e39d583-db27-4592-f005-b1679a203125"
      },
      "execution_count": 42,
      "outputs": [
        {
          "output_type": "stream",
          "name": "stderr",
          "text": [
            "100%|██████████| 700/700 [11:38<00:00,  1.00it/s]\n"
          ]
        }
      ]
    },
    {
      "cell_type": "code",
      "source": [
        "print(test_data[0])"
      ],
      "metadata": {
        "colab": {
          "base_uri": "https://localhost:8080/"
        },
        "id": "lam9ssEw_uHq",
        "outputId": "c4fde100-d61b-4118-bb54-2131bbb553e1"
      },
      "execution_count": 43,
      "outputs": [
        {
          "output_type": "stream",
          "name": "stdout",
          "text": [
            "{'instruction': 'Answer the following question.', 'input': \"How many countries and territories did Hilton's development pipeline encompass as of the end of 2023?\", 'output': '118', 'model_response': \"As of the end of 2023, Hilton's development pipeline encompassed over 220 countries and territories.\"}\n"
          ]
        }
      ]
    },
    {
      "cell_type": "code",
      "source": [
        "import re\n",
        "\n",
        "# Save the model\n",
        "file_name = f\"{re.sub(r'[ ()]', '', CHOOSE_MODEL) }-sft.pth\"\n",
        "torch.save(model.state_dict(), file_name)\n",
        "print(f\"Model saved as {file_name}\")\n",
        "\n",
        "# Load the model (when needed)\n",
        "# model.load_state_dict(torch.load(\"gpt2 -medium355M-sft.pth\")"
      ],
      "metadata": {
        "colab": {
          "base_uri": "https://localhost:8080/"
        },
        "id": "vYt4PapF_ver",
        "outputId": "f624793c-323f-4b55-eb0f-87d93cdc6c1f"
      },
      "execution_count": 44,
      "outputs": [
        {
          "output_type": "stream",
          "name": "stdout",
          "text": [
            "Model saved as gpt2-medium355M-sft.pth\n"
          ]
        }
      ]
    },
    {
      "cell_type": "code",
      "source": [],
      "metadata": {
        "id": "w4rOBKpPRoFC"
      },
      "execution_count": null,
      "outputs": []
    }
  ]
}